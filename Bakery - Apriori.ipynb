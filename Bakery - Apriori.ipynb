{
 "cells": [
  {
   "cell_type": "code",
   "execution_count": 1,
   "id": "478583cb",
   "metadata": {},
   "outputs": [],
   "source": [
    "import pandas as pd \n",
    "import numpy as np \n",
    "import seaborn as sns\n",
    "import matplotlib.pyplot as plt\n",
    "%matplotlib inline"
   ]
  },
  {
   "cell_type": "code",
   "execution_count": 2,
   "id": "2b5e1a96",
   "metadata": {},
   "outputs": [],
   "source": [
    "Bak=pd.read_csv('/Volumes/RAJ SANKAR/BreadBasket_DMS.csv')"
   ]
  },
  {
   "cell_type": "code",
   "execution_count": 3,
   "id": "cdf6be79",
   "metadata": {},
   "outputs": [
    {
     "data": {
      "text/html": [
       "<div>\n",
       "<style scoped>\n",
       "    .dataframe tbody tr th:only-of-type {\n",
       "        vertical-align: middle;\n",
       "    }\n",
       "\n",
       "    .dataframe tbody tr th {\n",
       "        vertical-align: top;\n",
       "    }\n",
       "\n",
       "    .dataframe thead th {\n",
       "        text-align: right;\n",
       "    }\n",
       "</style>\n",
       "<table border=\"1\" class=\"dataframe\">\n",
       "  <thead>\n",
       "    <tr style=\"text-align: right;\">\n",
       "      <th></th>\n",
       "      <th>Date</th>\n",
       "      <th>Time</th>\n",
       "      <th>Transaction</th>\n",
       "      <th>Item</th>\n",
       "    </tr>\n",
       "  </thead>\n",
       "  <tbody>\n",
       "    <tr>\n",
       "      <th>0</th>\n",
       "      <td>2016-10-30</td>\n",
       "      <td>09:58:11</td>\n",
       "      <td>1</td>\n",
       "      <td>Bread</td>\n",
       "    </tr>\n",
       "    <tr>\n",
       "      <th>1</th>\n",
       "      <td>2016-10-30</td>\n",
       "      <td>10:05:34</td>\n",
       "      <td>2</td>\n",
       "      <td>Scandinavian</td>\n",
       "    </tr>\n",
       "    <tr>\n",
       "      <th>2</th>\n",
       "      <td>2016-10-30</td>\n",
       "      <td>10:05:34</td>\n",
       "      <td>2</td>\n",
       "      <td>Scandinavian</td>\n",
       "    </tr>\n",
       "    <tr>\n",
       "      <th>3</th>\n",
       "      <td>2016-10-30</td>\n",
       "      <td>10:07:57</td>\n",
       "      <td>3</td>\n",
       "      <td>Hot chocolate</td>\n",
       "    </tr>\n",
       "    <tr>\n",
       "      <th>4</th>\n",
       "      <td>2016-10-30</td>\n",
       "      <td>10:07:57</td>\n",
       "      <td>3</td>\n",
       "      <td>Jam</td>\n",
       "    </tr>\n",
       "    <tr>\n",
       "      <th>5</th>\n",
       "      <td>2016-10-30</td>\n",
       "      <td>10:07:57</td>\n",
       "      <td>3</td>\n",
       "      <td>Cookies</td>\n",
       "    </tr>\n",
       "    <tr>\n",
       "      <th>6</th>\n",
       "      <td>2016-10-30</td>\n",
       "      <td>10:08:41</td>\n",
       "      <td>4</td>\n",
       "      <td>Muffin</td>\n",
       "    </tr>\n",
       "    <tr>\n",
       "      <th>7</th>\n",
       "      <td>2016-10-30</td>\n",
       "      <td>10:13:03</td>\n",
       "      <td>5</td>\n",
       "      <td>Coffee</td>\n",
       "    </tr>\n",
       "    <tr>\n",
       "      <th>8</th>\n",
       "      <td>2016-10-30</td>\n",
       "      <td>10:13:03</td>\n",
       "      <td>5</td>\n",
       "      <td>Pastry</td>\n",
       "    </tr>\n",
       "    <tr>\n",
       "      <th>9</th>\n",
       "      <td>2016-10-30</td>\n",
       "      <td>10:13:03</td>\n",
       "      <td>5</td>\n",
       "      <td>Bread</td>\n",
       "    </tr>\n",
       "  </tbody>\n",
       "</table>\n",
       "</div>"
      ],
      "text/plain": [
       "         Date      Time  Transaction           Item\n",
       "0  2016-10-30  09:58:11            1          Bread\n",
       "1  2016-10-30  10:05:34            2   Scandinavian\n",
       "2  2016-10-30  10:05:34            2   Scandinavian\n",
       "3  2016-10-30  10:07:57            3  Hot chocolate\n",
       "4  2016-10-30  10:07:57            3            Jam\n",
       "5  2016-10-30  10:07:57            3        Cookies\n",
       "6  2016-10-30  10:08:41            4         Muffin\n",
       "7  2016-10-30  10:13:03            5         Coffee\n",
       "8  2016-10-30  10:13:03            5         Pastry\n",
       "9  2016-10-30  10:13:03            5          Bread"
      ]
     },
     "execution_count": 3,
     "metadata": {},
     "output_type": "execute_result"
    }
   ],
   "source": [
    "Bak.head(10)"
   ]
  },
  {
   "cell_type": "code",
   "execution_count": 4,
   "id": "610f604e",
   "metadata": {},
   "outputs": [
    {
     "data": {
      "text/plain": [
       "Date           0\n",
       "Time           0\n",
       "Transaction    0\n",
       "Item           0\n",
       "dtype: int64"
      ]
     },
     "execution_count": 4,
     "metadata": {},
     "output_type": "execute_result"
    }
   ],
   "source": [
    "Bak.isnull().sum()"
   ]
  },
  {
   "cell_type": "markdown",
   "id": "a021b5ce",
   "metadata": {},
   "source": [
    "# Inspecting the data"
   ]
  },
  {
   "cell_type": "code",
   "execution_count": 5,
   "id": "0f62a281",
   "metadata": {},
   "outputs": [
    {
     "data": {
      "text/html": [
       "<div>\n",
       "<style scoped>\n",
       "    .dataframe tbody tr th:only-of-type {\n",
       "        vertical-align: middle;\n",
       "    }\n",
       "\n",
       "    .dataframe tbody tr th {\n",
       "        vertical-align: top;\n",
       "    }\n",
       "\n",
       "    .dataframe thead th {\n",
       "        text-align: right;\n",
       "    }\n",
       "</style>\n",
       "<table border=\"1\" class=\"dataframe\">\n",
       "  <thead>\n",
       "    <tr style=\"text-align: right;\">\n",
       "      <th></th>\n",
       "      <th>Date</th>\n",
       "      <th>Time</th>\n",
       "      <th>Transaction</th>\n",
       "      <th>Item</th>\n",
       "    </tr>\n",
       "  </thead>\n",
       "  <tbody>\n",
       "    <tr>\n",
       "      <th>26</th>\n",
       "      <td>2016-10-30</td>\n",
       "      <td>10:27:21</td>\n",
       "      <td>11</td>\n",
       "      <td>NONE</td>\n",
       "    </tr>\n",
       "    <tr>\n",
       "      <th>38</th>\n",
       "      <td>2016-10-30</td>\n",
       "      <td>10:34:36</td>\n",
       "      <td>15</td>\n",
       "      <td>NONE</td>\n",
       "    </tr>\n",
       "    <tr>\n",
       "      <th>39</th>\n",
       "      <td>2016-10-30</td>\n",
       "      <td>10:34:36</td>\n",
       "      <td>15</td>\n",
       "      <td>NONE</td>\n",
       "    </tr>\n",
       "    <tr>\n",
       "      <th>66</th>\n",
       "      <td>2016-10-30</td>\n",
       "      <td>11:05:30</td>\n",
       "      <td>29</td>\n",
       "      <td>NONE</td>\n",
       "    </tr>\n",
       "    <tr>\n",
       "      <th>80</th>\n",
       "      <td>2016-10-30</td>\n",
       "      <td>11:37:10</td>\n",
       "      <td>37</td>\n",
       "      <td>NONE</td>\n",
       "    </tr>\n",
       "  </tbody>\n",
       "</table>\n",
       "</div>"
      ],
      "text/plain": [
       "          Date      Time  Transaction  Item\n",
       "26  2016-10-30  10:27:21           11  NONE\n",
       "38  2016-10-30  10:34:36           15  NONE\n",
       "39  2016-10-30  10:34:36           15  NONE\n",
       "66  2016-10-30  11:05:30           29  NONE\n",
       "80  2016-10-30  11:37:10           37  NONE"
      ]
     },
     "execution_count": 5,
     "metadata": {},
     "output_type": "execute_result"
    }
   ],
   "source": [
    "Bak.loc[Bak['Item']=='NONE',:].head()"
   ]
  },
  {
   "cell_type": "code",
   "execution_count": 6,
   "id": "80b71e9c",
   "metadata": {},
   "outputs": [
    {
     "data": {
      "text/plain": [
       "Date           786\n",
       "Time           786\n",
       "Transaction    786\n",
       "Item           786\n",
       "dtype: int64"
      ]
     },
     "execution_count": 6,
     "metadata": {},
     "output_type": "execute_result"
    }
   ],
   "source": [
    "Bak.loc[Bak['Item']=='NONE',:].count()"
   ]
  },
  {
   "cell_type": "code",
   "execution_count": 7,
   "id": "41700177",
   "metadata": {},
   "outputs": [],
   "source": [
    "#or\n",
    "#c = Bak[Bak['Item']=='NONE'].head()\n",
    "#c"
   ]
  },
  {
   "cell_type": "code",
   "execution_count": 8,
   "id": "b34c047a",
   "metadata": {},
   "outputs": [],
   "source": [
    "#c = Bak[Bak['Item']=='NONE'].count()\n",
    "#c"
   ]
  },
  {
   "cell_type": "markdown",
   "id": "f6a08204",
   "metadata": {},
   "source": [
    "# Dropping none values from the dataset"
   ]
  },
  {
   "cell_type": "code",
   "execution_count": 9,
   "id": "ef9adcd1",
   "metadata": {},
   "outputs": [],
   "source": [
    "Bak=Bak.drop(Bak.loc[Bak['Item']=='NONE'].index)"
   ]
  },
  {
   "cell_type": "code",
   "execution_count": 10,
   "id": "c44ddd5b",
   "metadata": {},
   "outputs": [],
   "source": [
    "#or\n",
    "#Bak = Bak.drop(Bak[Bak['Item']=='NONE'].index)"
   ]
  },
  {
   "cell_type": "code",
   "execution_count": 11,
   "id": "18fcdefe",
   "metadata": {},
   "outputs": [
    {
     "data": {
      "text/plain": [
       "Date           0\n",
       "Time           0\n",
       "Transaction    0\n",
       "Item           0\n",
       "dtype: int64"
      ]
     },
     "execution_count": 11,
     "metadata": {},
     "output_type": "execute_result"
    }
   ],
   "source": [
    "Bak.loc[Bak['Item']=='NONE',:].count()"
   ]
  },
  {
   "cell_type": "markdown",
   "id": "93678361",
   "metadata": {},
   "source": [
    "# Finding out the items that are sold at the Bakery"
   ]
  },
  {
   "cell_type": "code",
   "execution_count": 12,
   "id": "b5b16c77",
   "metadata": {},
   "outputs": [
    {
     "name": "stdout",
     "output_type": "stream",
     "text": [
      "Total number of Items sold at the bakery is: 94\n"
     ]
    }
   ],
   "source": [
    "print('Total number of Items sold at the bakery is:',Bak['Item'].nunique())"
   ]
  },
  {
   "cell_type": "code",
   "execution_count": 13,
   "id": "1ecbe248",
   "metadata": {},
   "outputs": [
    {
     "name": "stdout",
     "output_type": "stream",
     "text": [
      "List of Items sold at the bakery:\n"
     ]
    },
    {
     "data": {
      "text/plain": [
       "array(['Bread', 'Scandinavian', 'Hot chocolate', 'Jam', 'Cookies',\n",
       "       'Muffin', 'Coffee', 'Pastry', 'Medialuna', 'Tea', 'Tartine',\n",
       "       'Basket', 'Mineral water', 'Farm House', 'Fudge', 'Juice',\n",
       "       \"Ella's Kitchen Pouches\", 'Victorian Sponge', 'Frittata',\n",
       "       'Hearty & Seasonal', 'Soup', 'Pick and Mix Bowls', 'Smoothies',\n",
       "       'Cake', 'Mighty Protein', 'Chicken sand', 'Coke',\n",
       "       'My-5 Fruit Shoot', 'Focaccia', 'Sandwich', 'Alfajores', 'Eggs',\n",
       "       'Brownie', 'Dulce de Leche', 'Honey', 'The BART', 'Granola',\n",
       "       'Fairy Doors', 'Empanadas', 'Keeping It Local', 'Art Tray',\n",
       "       'Bowl Nic Pitt', 'Bread Pudding', 'Adjustment', 'Truffles',\n",
       "       'Chimichurri Oil', 'Bacon', 'Spread', 'Kids biscuit', 'Siblings',\n",
       "       'Caramel bites', 'Jammie Dodgers', 'Tiffin', 'Olum & polenta',\n",
       "       'Polenta', 'The Nomad', 'Hack the stack', 'Bakewell',\n",
       "       'Lemon and coconut', 'Toast', 'Scone', 'Crepes', 'Vegan mincepie',\n",
       "       'Bare Popcorn', 'Muesli', 'Crisps', 'Pintxos', 'Gingerbread syrup',\n",
       "       'Panatone', 'Brioche and salami', 'Afternoon with the baker',\n",
       "       'Salad', 'Chicken Stew', 'Spanish Brunch',\n",
       "       'Raspberry shortbread sandwich', 'Extra Salami or Feta',\n",
       "       'Duck egg', 'Baguette', \"Valentine's card\", 'Tshirt',\n",
       "       'Vegan Feast', 'Postcard', 'Nomad bag', 'Chocolates',\n",
       "       'Coffee granules ', 'Drinking chocolate spoons ',\n",
       "       'Christmas common', 'Argentina Night', 'Half slice Monster ',\n",
       "       'Gift voucher', 'Cherry me Dried fruit', 'Mortimer', 'Raw bars',\n",
       "       'Tacos/Fajita'], dtype=object)"
      ]
     },
     "execution_count": 13,
     "metadata": {},
     "output_type": "execute_result"
    }
   ],
   "source": [
    "print('List of Items sold at the bakery:')\n",
    "Bak['Item'].unique()"
   ]
  },
  {
   "cell_type": "code",
   "execution_count": 14,
   "id": "3a3e0301",
   "metadata": {},
   "outputs": [
    {
     "name": "stdout",
     "output_type": "stream",
     "text": [
      "List of Items sold at the Bakery:\n",
      "\n",
      "Tea\n",
      "Vegan Feast\n",
      "Coffee granules \n",
      "Brioche and salami\n",
      "Basket\n",
      "Jam\n",
      "Bakewell\n",
      "Baguette\n",
      "Art Tray\n",
      "Scone\n",
      "Panatone\n",
      "Crisps\n",
      "Keeping It Local\n",
      "Cherry me Dried fruit\n",
      "Alfajores\n",
      "Mortimer\n",
      "Spanish Brunch\n",
      "Brownie\n",
      "Frittata\n",
      "Bare Popcorn\n",
      "Valentine's card\n",
      "Drinking chocolate spoons \n",
      "Tshirt\n",
      "Scandinavian\n",
      "Polenta\n",
      "Extra Salami or Feta\n",
      "Vegan mincepie\n",
      "Hot chocolate\n",
      "Coke\n",
      "Focaccia\n",
      "Hack the stack\n",
      "Afternoon with the baker\n",
      "Dulce de Leche\n",
      "Sandwich\n",
      "Medialuna\n",
      "Muesli\n",
      "Pick and Mix Bowls\n",
      "Hearty & Seasonal\n",
      "Crepes\n",
      "Farm House\n",
      "Mighty Protein\n",
      "Fudge\n",
      "The Nomad\n",
      "Gift voucher\n",
      "Siblings\n",
      "My-5 Fruit Shoot\n",
      "Smoothies\n",
      "Bread\n",
      "Half slice Monster \n",
      "Olum & polenta\n",
      "Pintxos\n",
      "Chocolates\n",
      "Ella's Kitchen Pouches\n",
      "Postcard\n",
      "Jammie Dodgers\n",
      "Caramel bites\n",
      "Christmas common\n",
      "Soup\n",
      "Tacos/Fajita\n",
      "Truffles\n",
      "Eggs\n",
      "Mineral water\n",
      "Nomad bag\n",
      "Raw bars\n",
      "Spread\n",
      "Honey\n",
      "Argentina Night\n",
      "Raspberry shortbread sandwich\n",
      "Juice\n",
      "Fairy Doors\n",
      "Chicken Stew\n",
      "Tartine\n",
      "Cake\n",
      "Salad\n",
      "Lemon and coconut\n",
      "Chicken sand\n",
      "Chimichurri Oil\n",
      "Coffee\n",
      "Granola\n",
      "Toast\n",
      "Pastry\n",
      "Gingerbread syrup\n",
      "Duck egg\n",
      "Empanadas\n",
      "The BART\n",
      "Cookies\n",
      "Victorian Sponge\n",
      "Bread Pudding\n",
      "Adjustment\n",
      "Tiffin\n",
      "Muffin\n",
      "Bowl Nic Pitt\n",
      "Kids biscuit\n",
      "Bacon\n"
     ]
    }
   ],
   "source": [
    "print('List of Items sold at the Bakery:\\n')\n",
    "for item in set(Bak['Item']):\n",
    "    print(item)"
   ]
  },
  {
   "cell_type": "code",
   "execution_count": 15,
   "id": "c842afab",
   "metadata": {},
   "outputs": [
    {
     "name": "stdout",
     "output_type": "stream",
     "text": [
      "Ten Most Sold Items At The Bakery\n"
     ]
    },
    {
     "data": {
      "text/plain": [
       "Coffee           5471\n",
       "Bread            3325\n",
       "Tea              1435\n",
       "Cake             1025\n",
       "Pastry            856\n",
       "Sandwich          771\n",
       "Medialuna         616\n",
       "Hot chocolate     590\n",
       "Cookies           540\n",
       "Brownie           379\n",
       "Name: Item, dtype: int64"
      ]
     },
     "execution_count": 15,
     "metadata": {},
     "output_type": "execute_result"
    }
   ],
   "source": [
    "print('Ten Most Sold Items At The Bakery')\n",
    "Bak.Item.value_counts().head(10)"
   ]
  },
  {
   "cell_type": "code",
   "execution_count": 16,
   "id": "1d5ec98b",
   "metadata": {},
   "outputs": [
    {
     "data": {
      "image/png": "[encoded data removed]",
      "text/plain": [
       "<Figure size 1152x504 with 1 Axes>"
      ]
     },
     "metadata": {
      "needs_background": "light"
     },
     "output_type": "display_data"
    }
   ],
   "source": [
    "fig, ax=plt.subplots(figsize=(16,7))\n",
    "Bak['Item'].value_counts().sort_values(ascending=False).head(20).plot.bar(width=0.5,edgecolor='k',align='center',linewidth=2)\n",
    "plt.xlabel('Food Item',fontsize=20)\n",
    "plt.ylabel('Number of transactions',fontsize=20)\n",
    "ax.tick_params(labelsize=20)\n",
    "plt.title('20 Most Sold Items at the Bakery',fontsize=25)\n",
    "plt.grid()\n",
    "plt.ioff()"
   ]
  },
  {
   "cell_type": "markdown",
   "id": "d3bf2c98",
   "metadata": {},
   "source": [
    "# Business during different times of the day"
   ]
  },
  {
   "cell_type": "code",
   "execution_count": 17,
   "id": "3ff514a8",
   "metadata": {},
   "outputs": [],
   "source": [
    "Bak.loc[Bak['Time']<'12:00:00','Daytime']='Morning'\n",
    "Bak.loc[(Bak['Time']>='12:00:00')&(Bak['Time']<'17:00:00'),'Daytime']='Afternoon'\n",
    "Bak.loc[(Bak['Time']>='17:00:00')&(Bak['Time']<'20:00:00'),'Daytime']='Evening'\n",
    "Bak.loc[(Bak['Time']>='20:00:00')&(Bak['Time']<'23:50:00'),'Daytime']='Night'"
   ]
  },
  {
   "cell_type": "code",
   "execution_count": 18,
   "id": "ec8726e7",
   "metadata": {},
   "outputs": [
    {
     "data": {
      "image/png": "[encoded data removed]",
      "text/plain": [
       "<Figure size 1152x504 with 1 Axes>"
      ]
     },
     "metadata": {
      "needs_background": "light"
     },
     "output_type": "display_data"
    }
   ],
   "source": [
    "fig, ax=plt.subplots(figsize=(16,7))\n",
    "Bak['Daytime'].value_counts().plot.bar(width=0.5,edgecolor='k',align='center',linewidth=2)\n",
    "plt.xlabel('Time of the Day',fontsize=20)\n",
    "plt.ylabel('Number of transactions',fontsize=20)\n",
    "ax.tick_params(labelsize=20)\n",
    "plt.title('Sales During Different Period of the Day',fontsize=25)\n",
    "plt.grid()\n",
    "plt.ioff()"
   ]
  },
  {
   "cell_type": "markdown",
   "id": "c247fc7e",
   "metadata": {},
   "source": [
    "# Sales on different days of the week"
   ]
  },
  {
   "cell_type": "code",
   "execution_count": 19,
   "id": "aab20ed7",
   "metadata": {},
   "outputs": [],
   "source": [
    "Bak1 = Bak.groupby(['Date']).size().reset_index(name='counts')\n",
    "Bak1['Day'] = pd.to_datetime(Bak1['Date']).dt.day_name()\n",
    "#Bak1"
   ]
  },
  {
   "cell_type": "code",
   "execution_count": 20,
   "id": "cecec014",
   "metadata": {},
   "outputs": [
    {
     "data": {
      "image/png": "[encoded data removed]",
      "text/plain": [
       "<Figure size 1440x1080 with 1 Axes>"
      ]
     },
     "metadata": {
      "needs_background": "light"
     },
     "output_type": "display_data"
    }
   ],
   "source": [
    "plt.figure(figsize=(20,15))\n",
    "plt.subplot(2,2,1)\n",
    "ax=sns.boxplot(x='Day',y='counts',data=Bak1,width=0.8,linewidth=2,palette='rainbow')\n",
    "plt.xlabel('Day of the Week',fontsize=15)\n",
    "plt.ylabel('Total Sales',fontsize=15)\n",
    "plt.title('Sales on Different Days of Week',fontsize=20)\n",
    "ax.tick_params(labelsize=10)\n",
    "plt.grid()\n",
    "plt.ioff()"
   ]
  },
  {
   "cell_type": "markdown",
   "id": "868f57c2",
   "metadata": {},
   "source": [
    "# We can see that maximum sales take place on saturday.This could be beacuse more tourist visit the bakery on weekends."
   ]
  },
  {
   "cell_type": "markdown",
   "id": "039b7318",
   "metadata": {},
   "source": [
    "# Sales on different Months of the year"
   ]
  },
  {
   "cell_type": "code",
   "execution_count": 21,
   "id": "5e70f0dd",
   "metadata": {},
   "outputs": [
    {
     "data": {
      "text/html": [
       "<div>\n",
       "<style scoped>\n",
       "    .dataframe tbody tr th:only-of-type {\n",
       "        vertical-align: middle;\n",
       "    }\n",
       "\n",
       "    .dataframe tbody tr th {\n",
       "        vertical-align: top;\n",
       "    }\n",
       "\n",
       "    .dataframe thead th {\n",
       "        text-align: right;\n",
       "    }\n",
       "</style>\n",
       "<table border=\"1\" class=\"dataframe\">\n",
       "  <thead>\n",
       "    <tr style=\"text-align: right;\">\n",
       "      <th></th>\n",
       "      <th>Date</th>\n",
       "      <th>Time</th>\n",
       "      <th>Transaction</th>\n",
       "      <th>Item</th>\n",
       "      <th>Daytime</th>\n",
       "      <th>Year</th>\n",
       "      <th>Month</th>\n",
       "      <th>Day</th>\n",
       "      <th>Hour</th>\n",
       "    </tr>\n",
       "  </thead>\n",
       "  <tbody>\n",
       "    <tr>\n",
       "      <th>0</th>\n",
       "      <td>2016-10-30</td>\n",
       "      <td>09:58:11</td>\n",
       "      <td>1</td>\n",
       "      <td>Bread</td>\n",
       "      <td>Morning</td>\n",
       "      <td>2016</td>\n",
       "      <td>10</td>\n",
       "      <td>30</td>\n",
       "      <td>9</td>\n",
       "    </tr>\n",
       "    <tr>\n",
       "      <th>1</th>\n",
       "      <td>2016-10-30</td>\n",
       "      <td>10:05:34</td>\n",
       "      <td>2</td>\n",
       "      <td>Scandinavian</td>\n",
       "      <td>Morning</td>\n",
       "      <td>2016</td>\n",
       "      <td>10</td>\n",
       "      <td>30</td>\n",
       "      <td>10</td>\n",
       "    </tr>\n",
       "    <tr>\n",
       "      <th>2</th>\n",
       "      <td>2016-10-30</td>\n",
       "      <td>10:05:34</td>\n",
       "      <td>2</td>\n",
       "      <td>Scandinavian</td>\n",
       "      <td>Morning</td>\n",
       "      <td>2016</td>\n",
       "      <td>10</td>\n",
       "      <td>30</td>\n",
       "      <td>10</td>\n",
       "    </tr>\n",
       "    <tr>\n",
       "      <th>3</th>\n",
       "      <td>2016-10-30</td>\n",
       "      <td>10:07:57</td>\n",
       "      <td>3</td>\n",
       "      <td>Hot chocolate</td>\n",
       "      <td>Morning</td>\n",
       "      <td>2016</td>\n",
       "      <td>10</td>\n",
       "      <td>30</td>\n",
       "      <td>10</td>\n",
       "    </tr>\n",
       "    <tr>\n",
       "      <th>4</th>\n",
       "      <td>2016-10-30</td>\n",
       "      <td>10:07:57</td>\n",
       "      <td>3</td>\n",
       "      <td>Jam</td>\n",
       "      <td>Morning</td>\n",
       "      <td>2016</td>\n",
       "      <td>10</td>\n",
       "      <td>30</td>\n",
       "      <td>10</td>\n",
       "    </tr>\n",
       "  </tbody>\n",
       "</table>\n",
       "</div>"
      ],
      "text/plain": [
       "         Date      Time  Transaction           Item  Daytime  Year Month Day  \\\n",
       "0  2016-10-30  09:58:11            1          Bread  Morning  2016    10  30   \n",
       "1  2016-10-30  10:05:34            2   Scandinavian  Morning  2016    10  30   \n",
       "2  2016-10-30  10:05:34            2   Scandinavian  Morning  2016    10  30   \n",
       "3  2016-10-30  10:07:57            3  Hot chocolate  Morning  2016    10  30   \n",
       "4  2016-10-30  10:07:57            3            Jam  Morning  2016    10  30   \n",
       "\n",
       "   Hour  \n",
       "0     9  \n",
       "1    10  \n",
       "2    10  \n",
       "3    10  \n",
       "4    10  "
      ]
     },
     "execution_count": 21,
     "metadata": {},
     "output_type": "execute_result"
    }
   ],
   "source": [
    "Bak['Year'] = Bak.Date.apply(lambda x:x.split('-')[0])\n",
    "Bak['Month'] = Bak.Date.apply(lambda x:x.split('-')[1])\n",
    "Bak['Day'] = Bak.Date.apply(lambda x:x.split('-')[2])\n",
    "Bak['Hour'] =Bak.Time.apply(lambda x:int(x.split(':')[0]))\n",
    "#df = df.drop(columns='Time')\n",
    "Bak.head()"
   ]
  },
  {
   "cell_type": "code",
   "execution_count": 22,
   "id": "1860eb9a",
   "metadata": {},
   "outputs": [
    {
     "data": {
      "text/html": [
       "<div>\n",
       "<style scoped>\n",
       "    .dataframe tbody tr th:only-of-type {\n",
       "        vertical-align: middle;\n",
       "    }\n",
       "\n",
       "    .dataframe tbody tr th {\n",
       "        vertical-align: top;\n",
       "    }\n",
       "\n",
       "    .dataframe thead th {\n",
       "        text-align: right;\n",
       "    }\n",
       "</style>\n",
       "<table border=\"1\" class=\"dataframe\">\n",
       "  <thead>\n",
       "    <tr style=\"text-align: right;\">\n",
       "      <th></th>\n",
       "      <th>Date</th>\n",
       "      <th>Time</th>\n",
       "      <th>Transaction</th>\n",
       "      <th>Item</th>\n",
       "      <th>Daytime</th>\n",
       "      <th>Year</th>\n",
       "      <th>Month</th>\n",
       "      <th>Day</th>\n",
       "      <th>Hour</th>\n",
       "      <th>Monthly</th>\n",
       "    </tr>\n",
       "  </thead>\n",
       "  <tbody>\n",
       "    <tr>\n",
       "      <th>21288</th>\n",
       "      <td>2017-04-09</td>\n",
       "      <td>14:32:58</td>\n",
       "      <td>9682</td>\n",
       "      <td>Coffee</td>\n",
       "      <td>Afternoon</td>\n",
       "      <td>2017</td>\n",
       "      <td>04</td>\n",
       "      <td>09</td>\n",
       "      <td>14</td>\n",
       "      <td>Apr</td>\n",
       "    </tr>\n",
       "    <tr>\n",
       "      <th>21289</th>\n",
       "      <td>2017-04-09</td>\n",
       "      <td>14:32:58</td>\n",
       "      <td>9682</td>\n",
       "      <td>Tea</td>\n",
       "      <td>Afternoon</td>\n",
       "      <td>2017</td>\n",
       "      <td>04</td>\n",
       "      <td>09</td>\n",
       "      <td>14</td>\n",
       "      <td>Apr</td>\n",
       "    </tr>\n",
       "    <tr>\n",
       "      <th>21290</th>\n",
       "      <td>2017-04-09</td>\n",
       "      <td>14:57:06</td>\n",
       "      <td>9683</td>\n",
       "      <td>Coffee</td>\n",
       "      <td>Afternoon</td>\n",
       "      <td>2017</td>\n",
       "      <td>04</td>\n",
       "      <td>09</td>\n",
       "      <td>14</td>\n",
       "      <td>Apr</td>\n",
       "    </tr>\n",
       "    <tr>\n",
       "      <th>21291</th>\n",
       "      <td>2017-04-09</td>\n",
       "      <td>14:57:06</td>\n",
       "      <td>9683</td>\n",
       "      <td>Pastry</td>\n",
       "      <td>Afternoon</td>\n",
       "      <td>2017</td>\n",
       "      <td>04</td>\n",
       "      <td>09</td>\n",
       "      <td>14</td>\n",
       "      <td>Apr</td>\n",
       "    </tr>\n",
       "    <tr>\n",
       "      <th>21292</th>\n",
       "      <td>2017-04-09</td>\n",
       "      <td>15:04:24</td>\n",
       "      <td>9684</td>\n",
       "      <td>Smoothies</td>\n",
       "      <td>Afternoon</td>\n",
       "      <td>2017</td>\n",
       "      <td>04</td>\n",
       "      <td>09</td>\n",
       "      <td>15</td>\n",
       "      <td>Apr</td>\n",
       "    </tr>\n",
       "  </tbody>\n",
       "</table>\n",
       "</div>"
      ],
      "text/plain": [
       "             Date      Time  Transaction       Item    Daytime  Year Month  \\\n",
       "21288  2017-04-09  14:32:58         9682     Coffee  Afternoon  2017    04   \n",
       "21289  2017-04-09  14:32:58         9682        Tea  Afternoon  2017    04   \n",
       "21290  2017-04-09  14:57:06         9683     Coffee  Afternoon  2017    04   \n",
       "21291  2017-04-09  14:57:06         9683     Pastry  Afternoon  2017    04   \n",
       "21292  2017-04-09  15:04:24         9684  Smoothies  Afternoon  2017    04   \n",
       "\n",
       "      Day  Hour Monthly  \n",
       "21288  09    14     Apr  \n",
       "21289  09    14     Apr  \n",
       "21290  09    14     Apr  \n",
       "21291  09    14     Apr  \n",
       "21292  09    15     Apr  "
      ]
     },
     "execution_count": 22,
     "metadata": {},
     "output_type": "execute_result"
    }
   ],
   "source": [
    "Bak.loc[Bak.Month == '10', 'Monthly'] = 'Oct'  \n",
    "Bak.loc[Bak.Month == '11', 'Monthly'] = 'Nov' \n",
    "Bak.loc[Bak.Month == '12', 'Monthly'] = 'Dec' \n",
    "Bak.loc[Bak.Month == '01', 'Monthly'] = 'Jan' \n",
    "Bak.loc[Bak.Month == '02', 'Monthly'] = 'Feb' \n",
    "Bak.loc[Bak.Month == '03', 'Monthly'] = 'Mar' \n",
    "Bak.loc[Bak.Month == '04', 'Monthly'] = 'Apr' \n",
    "#Bak.loc[Bak.Month == '05', 'Monthly'] = 'May' \n",
    "#df.loc[df.First_name != 'Bill', 'name_match'] = 'Mis-Match' \n",
    "Bak.tail()"
   ]
  },
  {
   "cell_type": "code",
   "execution_count": 23,
   "id": "2f81c0ad",
   "metadata": {},
   "outputs": [
    {
     "data": {
      "image/png": "[encoded data removed]",
      "text/plain": [
       "<Figure size 1152x504 with 1 Axes>"
      ]
     },
     "metadata": {
      "needs_background": "light"
     },
     "output_type": "display_data"
    }
   ],
   "source": [
    "fig, ax=plt.subplots(figsize=(16,7))\n",
    "ax=Bak.groupby('Monthly')['Item'].count().sort_values().plot.bar(width=0.5,edgecolor='k',align='center',linewidth=2)\n",
    "plt.xlabel('Month',fontsize=20)\n",
    "plt.ylabel('Number of transactions',fontsize=20)\n",
    "ax.tick_params(labelsize=20)\n",
    "plt.title('Sales During Different Months of a Year',fontsize=25)\n",
    "plt.grid()\n",
    "plt.ioff()"
   ]
  },
  {
   "cell_type": "markdown",
   "id": "9fc17fe4",
   "metadata": {},
   "source": [
    "# Association Rule Mining via Apriori Algorithm"
   ]
  },
  {
   "cell_type": "code",
   "execution_count": 24,
   "id": "67346e17",
   "metadata": {},
   "outputs": [],
   "source": [
    "from mlxtend.frequent_patterns import apriori\n",
    "from mlxtend.frequent_patterns import association_rules"
   ]
  },
  {
   "cell_type": "code",
   "execution_count": 25,
   "id": "f425522f",
   "metadata": {},
   "outputs": [],
   "source": [
    "hot_encoded_Bak=Bak.groupby(['Transaction','Item'])['Item'].count().unstack().reset_index().fillna(0).set_index('Transaction')\n",
    "#Above line of code is transfrom data to make items as columns and each transaction as a row and count same Items bought in one transaction but fill other cloumns of the row with 0 to represent item which are not bought."
   ]
  },
  {
   "cell_type": "code",
   "execution_count": 26,
   "id": "119bf66e",
   "metadata": {},
   "outputs": [
    {
     "data": {
      "text/html": [
       "<div>\n",
       "<style scoped>\n",
       "    .dataframe tbody tr th:only-of-type {\n",
       "        vertical-align: middle;\n",
       "    }\n",
       "\n",
       "    .dataframe tbody tr th {\n",
       "        vertical-align: top;\n",
       "    }\n",
       "\n",
       "    .dataframe thead th {\n",
       "        text-align: right;\n",
       "    }\n",
       "</style>\n",
       "<table border=\"1\" class=\"dataframe\">\n",
       "  <thead>\n",
       "    <tr style=\"text-align: right;\">\n",
       "      <th>Item</th>\n",
       "      <th>Adjustment</th>\n",
       "      <th>Afternoon with the baker</th>\n",
       "      <th>Alfajores</th>\n",
       "      <th>Argentina Night</th>\n",
       "      <th>Art Tray</th>\n",
       "      <th>Bacon</th>\n",
       "      <th>Baguette</th>\n",
       "      <th>Bakewell</th>\n",
       "      <th>Bare Popcorn</th>\n",
       "      <th>Basket</th>\n",
       "      <th>...</th>\n",
       "      <th>The BART</th>\n",
       "      <th>The Nomad</th>\n",
       "      <th>Tiffin</th>\n",
       "      <th>Toast</th>\n",
       "      <th>Truffles</th>\n",
       "      <th>Tshirt</th>\n",
       "      <th>Valentine's card</th>\n",
       "      <th>Vegan Feast</th>\n",
       "      <th>Vegan mincepie</th>\n",
       "      <th>Victorian Sponge</th>\n",
       "    </tr>\n",
       "    <tr>\n",
       "      <th>Transaction</th>\n",
       "      <th></th>\n",
       "      <th></th>\n",
       "      <th></th>\n",
       "      <th></th>\n",
       "      <th></th>\n",
       "      <th></th>\n",
       "      <th></th>\n",
       "      <th></th>\n",
       "      <th></th>\n",
       "      <th></th>\n",
       "      <th></th>\n",
       "      <th></th>\n",
       "      <th></th>\n",
       "      <th></th>\n",
       "      <th></th>\n",
       "      <th></th>\n",
       "      <th></th>\n",
       "      <th></th>\n",
       "      <th></th>\n",
       "      <th></th>\n",
       "      <th></th>\n",
       "    </tr>\n",
       "  </thead>\n",
       "  <tbody>\n",
       "    <tr>\n",
       "      <th>1</th>\n",
       "      <td>0.0</td>\n",
       "      <td>0.0</td>\n",
       "      <td>0.0</td>\n",
       "      <td>0.0</td>\n",
       "      <td>0.0</td>\n",
       "      <td>0.0</td>\n",
       "      <td>0.0</td>\n",
       "      <td>0.0</td>\n",
       "      <td>0.0</td>\n",
       "      <td>0.0</td>\n",
       "      <td>...</td>\n",
       "      <td>0.0</td>\n",
       "      <td>0.0</td>\n",
       "      <td>0.0</td>\n",
       "      <td>0.0</td>\n",
       "      <td>0.0</td>\n",
       "      <td>0.0</td>\n",
       "      <td>0.0</td>\n",
       "      <td>0.0</td>\n",
       "      <td>0.0</td>\n",
       "      <td>0.0</td>\n",
       "    </tr>\n",
       "    <tr>\n",
       "      <th>2</th>\n",
       "      <td>0.0</td>\n",
       "      <td>0.0</td>\n",
       "      <td>0.0</td>\n",
       "      <td>0.0</td>\n",
       "      <td>0.0</td>\n",
       "      <td>0.0</td>\n",
       "      <td>0.0</td>\n",
       "      <td>0.0</td>\n",
       "      <td>0.0</td>\n",
       "      <td>0.0</td>\n",
       "      <td>...</td>\n",
       "      <td>0.0</td>\n",
       "      <td>0.0</td>\n",
       "      <td>0.0</td>\n",
       "      <td>0.0</td>\n",
       "      <td>0.0</td>\n",
       "      <td>0.0</td>\n",
       "      <td>0.0</td>\n",
       "      <td>0.0</td>\n",
       "      <td>0.0</td>\n",
       "      <td>0.0</td>\n",
       "    </tr>\n",
       "    <tr>\n",
       "      <th>3</th>\n",
       "      <td>0.0</td>\n",
       "      <td>0.0</td>\n",
       "      <td>0.0</td>\n",
       "      <td>0.0</td>\n",
       "      <td>0.0</td>\n",
       "      <td>0.0</td>\n",
       "      <td>0.0</td>\n",
       "      <td>0.0</td>\n",
       "      <td>0.0</td>\n",
       "      <td>0.0</td>\n",
       "      <td>...</td>\n",
       "      <td>0.0</td>\n",
       "      <td>0.0</td>\n",
       "      <td>0.0</td>\n",
       "      <td>0.0</td>\n",
       "      <td>0.0</td>\n",
       "      <td>0.0</td>\n",
       "      <td>0.0</td>\n",
       "      <td>0.0</td>\n",
       "      <td>0.0</td>\n",
       "      <td>0.0</td>\n",
       "    </tr>\n",
       "    <tr>\n",
       "      <th>4</th>\n",
       "      <td>0.0</td>\n",
       "      <td>0.0</td>\n",
       "      <td>0.0</td>\n",
       "      <td>0.0</td>\n",
       "      <td>0.0</td>\n",
       "      <td>0.0</td>\n",
       "      <td>0.0</td>\n",
       "      <td>0.0</td>\n",
       "      <td>0.0</td>\n",
       "      <td>0.0</td>\n",
       "      <td>...</td>\n",
       "      <td>0.0</td>\n",
       "      <td>0.0</td>\n",
       "      <td>0.0</td>\n",
       "      <td>0.0</td>\n",
       "      <td>0.0</td>\n",
       "      <td>0.0</td>\n",
       "      <td>0.0</td>\n",
       "      <td>0.0</td>\n",
       "      <td>0.0</td>\n",
       "      <td>0.0</td>\n",
       "    </tr>\n",
       "    <tr>\n",
       "      <th>5</th>\n",
       "      <td>0.0</td>\n",
       "      <td>0.0</td>\n",
       "      <td>0.0</td>\n",
       "      <td>0.0</td>\n",
       "      <td>0.0</td>\n",
       "      <td>0.0</td>\n",
       "      <td>0.0</td>\n",
       "      <td>0.0</td>\n",
       "      <td>0.0</td>\n",
       "      <td>0.0</td>\n",
       "      <td>...</td>\n",
       "      <td>0.0</td>\n",
       "      <td>0.0</td>\n",
       "      <td>0.0</td>\n",
       "      <td>0.0</td>\n",
       "      <td>0.0</td>\n",
       "      <td>0.0</td>\n",
       "      <td>0.0</td>\n",
       "      <td>0.0</td>\n",
       "      <td>0.0</td>\n",
       "      <td>0.0</td>\n",
       "    </tr>\n",
       "  </tbody>\n",
       "</table>\n",
       "<p>5 rows × 94 columns</p>\n",
       "</div>"
      ],
      "text/plain": [
       "Item         Adjustment  Afternoon with the baker  Alfajores  Argentina Night  \\\n",
       "Transaction                                                                     \n",
       "1                   0.0                       0.0        0.0              0.0   \n",
       "2                   0.0                       0.0        0.0              0.0   \n",
       "3                   0.0                       0.0        0.0              0.0   \n",
       "4                   0.0                       0.0        0.0              0.0   \n",
       "5                   0.0                       0.0        0.0              0.0   \n",
       "\n",
       "Item         Art Tray  Bacon  Baguette  Bakewell  Bare Popcorn  Basket  ...  \\\n",
       "Transaction                                                             ...   \n",
       "1                 0.0    0.0       0.0       0.0           0.0     0.0  ...   \n",
       "2                 0.0    0.0       0.0       0.0           0.0     0.0  ...   \n",
       "3                 0.0    0.0       0.0       0.0           0.0     0.0  ...   \n",
       "4                 0.0    0.0       0.0       0.0           0.0     0.0  ...   \n",
       "5                 0.0    0.0       0.0       0.0           0.0     0.0  ...   \n",
       "\n",
       "Item         The BART  The Nomad  Tiffin  Toast  Truffles  Tshirt  \\\n",
       "Transaction                                                         \n",
       "1                 0.0        0.0     0.0    0.0       0.0     0.0   \n",
       "2                 0.0        0.0     0.0    0.0       0.0     0.0   \n",
       "3                 0.0        0.0     0.0    0.0       0.0     0.0   \n",
       "4                 0.0        0.0     0.0    0.0       0.0     0.0   \n",
       "5                 0.0        0.0     0.0    0.0       0.0     0.0   \n",
       "\n",
       "Item         Valentine's card  Vegan Feast  Vegan mincepie  Victorian Sponge  \n",
       "Transaction                                                                   \n",
       "1                         0.0          0.0             0.0               0.0  \n",
       "2                         0.0          0.0             0.0               0.0  \n",
       "3                         0.0          0.0             0.0               0.0  \n",
       "4                         0.0          0.0             0.0               0.0  \n",
       "5                         0.0          0.0             0.0               0.0  \n",
       "\n",
       "[5 rows x 94 columns]"
      ]
     },
     "execution_count": 26,
     "metadata": {},
     "output_type": "execute_result"
    }
   ],
   "source": [
    "hot_encoded_Bak.head()"
   ]
  },
  {
   "cell_type": "markdown",
   "id": "af2b8e1b",
   "metadata": {},
   "source": [
    "# Encoding the data set"
   ]
  },
  {
   "cell_type": "code",
   "execution_count": 27,
   "id": "8702ec34",
   "metadata": {},
   "outputs": [],
   "source": [
    "def encode_units(x):\n",
    "    if x <= 0:\n",
    "        return 0\n",
    "    if x >= 1:\n",
    "        return 1\n",
    "hot_encoded_Bak = hot_encoded_Bak.applymap(encode_units)"
   ]
  },
  {
   "cell_type": "code",
   "execution_count": 28,
   "id": "7468782c",
   "metadata": {},
   "outputs": [],
   "source": [
    "frequent_itemsets = apriori(hot_encoded_Bak, min_support=0.01, use_colnames=True)"
   ]
  },
  {
   "cell_type": "code",
   "execution_count": 29,
   "id": "727534aa",
   "metadata": {},
   "outputs": [
    {
     "data": {
      "text/html": [
       "<div>\n",
       "<style scoped>\n",
       "    .dataframe tbody tr th:only-of-type {\n",
       "        vertical-align: middle;\n",
       "    }\n",
       "\n",
       "    .dataframe tbody tr th {\n",
       "        vertical-align: top;\n",
       "    }\n",
       "\n",
       "    .dataframe thead th {\n",
       "        text-align: right;\n",
       "    }\n",
       "</style>\n",
       "<table border=\"1\" class=\"dataframe\">\n",
       "  <thead>\n",
       "    <tr style=\"text-align: right;\">\n",
       "      <th></th>\n",
       "      <th>antecedents</th>\n",
       "      <th>consequents</th>\n",
       "      <th>antecedent support</th>\n",
       "      <th>consequent support</th>\n",
       "      <th>support</th>\n",
       "      <th>confidence</th>\n",
       "      <th>lift</th>\n",
       "      <th>leverage</th>\n",
       "      <th>conviction</th>\n",
       "    </tr>\n",
       "  </thead>\n",
       "  <tbody>\n",
       "    <tr>\n",
       "      <th>0</th>\n",
       "      <td>(Coffee)</td>\n",
       "      <td>(Alfajores)</td>\n",
       "      <td>0.478394</td>\n",
       "      <td>0.036344</td>\n",
       "      <td>0.019651</td>\n",
       "      <td>0.041078</td>\n",
       "      <td>1.130235</td>\n",
       "      <td>0.002264</td>\n",
       "      <td>1.004936</td>\n",
       "    </tr>\n",
       "    <tr>\n",
       "      <th>1</th>\n",
       "      <td>(Alfajores)</td>\n",
       "      <td>(Coffee)</td>\n",
       "      <td>0.036344</td>\n",
       "      <td>0.478394</td>\n",
       "      <td>0.019651</td>\n",
       "      <td>0.540698</td>\n",
       "      <td>1.130235</td>\n",
       "      <td>0.002264</td>\n",
       "      <td>1.135648</td>\n",
       "    </tr>\n",
       "    <tr>\n",
       "      <th>2</th>\n",
       "      <td>(Bread)</td>\n",
       "      <td>(Pastry)</td>\n",
       "      <td>0.327205</td>\n",
       "      <td>0.086107</td>\n",
       "      <td>0.029160</td>\n",
       "      <td>0.089119</td>\n",
       "      <td>1.034977</td>\n",
       "      <td>0.000985</td>\n",
       "      <td>1.003306</td>\n",
       "    </tr>\n",
       "    <tr>\n",
       "      <th>3</th>\n",
       "      <td>(Pastry)</td>\n",
       "      <td>(Bread)</td>\n",
       "      <td>0.086107</td>\n",
       "      <td>0.327205</td>\n",
       "      <td>0.029160</td>\n",
       "      <td>0.338650</td>\n",
       "      <td>1.034977</td>\n",
       "      <td>0.000985</td>\n",
       "      <td>1.017305</td>\n",
       "    </tr>\n",
       "    <tr>\n",
       "      <th>4</th>\n",
       "      <td>(Coffee)</td>\n",
       "      <td>(Brownie)</td>\n",
       "      <td>0.478394</td>\n",
       "      <td>0.040042</td>\n",
       "      <td>0.019651</td>\n",
       "      <td>0.041078</td>\n",
       "      <td>1.025860</td>\n",
       "      <td>0.000495</td>\n",
       "      <td>1.001080</td>\n",
       "    </tr>\n",
       "    <tr>\n",
       "      <th>5</th>\n",
       "      <td>(Brownie)</td>\n",
       "      <td>(Coffee)</td>\n",
       "      <td>0.040042</td>\n",
       "      <td>0.478394</td>\n",
       "      <td>0.019651</td>\n",
       "      <td>0.490765</td>\n",
       "      <td>1.025860</td>\n",
       "      <td>0.000495</td>\n",
       "      <td>1.024293</td>\n",
       "    </tr>\n",
       "    <tr>\n",
       "      <th>6</th>\n",
       "      <td>(Coffee)</td>\n",
       "      <td>(Cake)</td>\n",
       "      <td>0.478394</td>\n",
       "      <td>0.103856</td>\n",
       "      <td>0.054728</td>\n",
       "      <td>0.114399</td>\n",
       "      <td>1.101515</td>\n",
       "      <td>0.005044</td>\n",
       "      <td>1.011905</td>\n",
       "    </tr>\n",
       "    <tr>\n",
       "      <th>7</th>\n",
       "      <td>(Cake)</td>\n",
       "      <td>(Coffee)</td>\n",
       "      <td>0.103856</td>\n",
       "      <td>0.478394</td>\n",
       "      <td>0.054728</td>\n",
       "      <td>0.526958</td>\n",
       "      <td>1.101515</td>\n",
       "      <td>0.005044</td>\n",
       "      <td>1.102664</td>\n",
       "    </tr>\n",
       "    <tr>\n",
       "      <th>8</th>\n",
       "      <td>(Cake)</td>\n",
       "      <td>(Hot chocolate)</td>\n",
       "      <td>0.103856</td>\n",
       "      <td>0.058320</td>\n",
       "      <td>0.011410</td>\n",
       "      <td>0.109868</td>\n",
       "      <td>1.883874</td>\n",
       "      <td>0.005354</td>\n",
       "      <td>1.057910</td>\n",
       "    </tr>\n",
       "    <tr>\n",
       "      <th>9</th>\n",
       "      <td>(Hot chocolate)</td>\n",
       "      <td>(Cake)</td>\n",
       "      <td>0.058320</td>\n",
       "      <td>0.103856</td>\n",
       "      <td>0.011410</td>\n",
       "      <td>0.195652</td>\n",
       "      <td>1.883874</td>\n",
       "      <td>0.005354</td>\n",
       "      <td>1.114125</td>\n",
       "    </tr>\n",
       "  </tbody>\n",
       "</table>\n",
       "</div>"
      ],
      "text/plain": [
       "       antecedents      consequents  antecedent support  consequent support  \\\n",
       "0         (Coffee)      (Alfajores)            0.478394            0.036344   \n",
       "1      (Alfajores)         (Coffee)            0.036344            0.478394   \n",
       "2          (Bread)         (Pastry)            0.327205            0.086107   \n",
       "3         (Pastry)          (Bread)            0.086107            0.327205   \n",
       "4         (Coffee)        (Brownie)            0.478394            0.040042   \n",
       "5        (Brownie)         (Coffee)            0.040042            0.478394   \n",
       "6         (Coffee)           (Cake)            0.478394            0.103856   \n",
       "7           (Cake)         (Coffee)            0.103856            0.478394   \n",
       "8           (Cake)  (Hot chocolate)            0.103856            0.058320   \n",
       "9  (Hot chocolate)           (Cake)            0.058320            0.103856   \n",
       "\n",
       "    support  confidence      lift  leverage  conviction  \n",
       "0  0.019651    0.041078  1.130235  0.002264    1.004936  \n",
       "1  0.019651    0.540698  1.130235  0.002264    1.135648  \n",
       "2  0.029160    0.089119  1.034977  0.000985    1.003306  \n",
       "3  0.029160    0.338650  1.034977  0.000985    1.017305  \n",
       "4  0.019651    0.041078  1.025860  0.000495    1.001080  \n",
       "5  0.019651    0.490765  1.025860  0.000495    1.024293  \n",
       "6  0.054728    0.114399  1.101515  0.005044    1.011905  \n",
       "7  0.054728    0.526958  1.101515  0.005044    1.102664  \n",
       "8  0.011410    0.109868  1.883874  0.005354    1.057910  \n",
       "9  0.011410    0.195652  1.883874  0.005354    1.114125  "
      ]
     },
     "execution_count": 29,
     "metadata": {},
     "output_type": "execute_result"
    }
   ],
   "source": [
    "rules = association_rules(frequent_itemsets, metric=\"lift\", min_threshold=1)\n",
    "rules.head(10)"
   ]
  },
  {
   "cell_type": "code",
   "execution_count": 30,
   "id": "0db62126",
   "metadata": {},
   "outputs": [
    {
     "data": {
      "text/html": [
       "<div>\n",
       "<style scoped>\n",
       "    .dataframe tbody tr th:only-of-type {\n",
       "        vertical-align: middle;\n",
       "    }\n",
       "\n",
       "    .dataframe tbody tr th {\n",
       "        vertical-align: top;\n",
       "    }\n",
       "\n",
       "    .dataframe thead th {\n",
       "        text-align: right;\n",
       "    }\n",
       "</style>\n",
       "<table border=\"1\" class=\"dataframe\">\n",
       "  <thead>\n",
       "    <tr style=\"text-align: right;\">\n",
       "      <th></th>\n",
       "      <th>antecedents</th>\n",
       "      <th>consequents</th>\n",
       "      <th>antecedent support</th>\n",
       "      <th>consequent support</th>\n",
       "      <th>support</th>\n",
       "      <th>confidence</th>\n",
       "      <th>lift</th>\n",
       "      <th>leverage</th>\n",
       "      <th>conviction</th>\n",
       "    </tr>\n",
       "  </thead>\n",
       "  <tbody>\n",
       "    <tr>\n",
       "      <th>19</th>\n",
       "      <td>(Medialuna)</td>\n",
       "      <td>(Coffee)</td>\n",
       "      <td>0.061807</td>\n",
       "      <td>0.478394</td>\n",
       "      <td>0.035182</td>\n",
       "      <td>0.569231</td>\n",
       "      <td>1.189878</td>\n",
       "      <td>0.005614</td>\n",
       "      <td>1.210871</td>\n",
       "    </tr>\n",
       "    <tr>\n",
       "      <th>28</th>\n",
       "      <td>(Spanish Brunch)</td>\n",
       "      <td>(Coffee)</td>\n",
       "      <td>0.018172</td>\n",
       "      <td>0.478394</td>\n",
       "      <td>0.010882</td>\n",
       "      <td>0.598837</td>\n",
       "      <td>1.251766</td>\n",
       "      <td>0.002189</td>\n",
       "      <td>1.300235</td>\n",
       "    </tr>\n",
       "    <tr>\n",
       "      <th>31</th>\n",
       "      <td>(Toast)</td>\n",
       "      <td>(Coffee)</td>\n",
       "      <td>0.033597</td>\n",
       "      <td>0.478394</td>\n",
       "      <td>0.023666</td>\n",
       "      <td>0.704403</td>\n",
       "      <td>1.472431</td>\n",
       "      <td>0.007593</td>\n",
       "      <td>1.764582</td>\n",
       "    </tr>\n",
       "  </tbody>\n",
       "</table>\n",
       "</div>"
      ],
      "text/plain": [
       "         antecedents consequents  antecedent support  consequent support  \\\n",
       "19       (Medialuna)    (Coffee)            0.061807            0.478394   \n",
       "28  (Spanish Brunch)    (Coffee)            0.018172            0.478394   \n",
       "31           (Toast)    (Coffee)            0.033597            0.478394   \n",
       "\n",
       "     support  confidence      lift  leverage  conviction  \n",
       "19  0.035182    0.569231  1.189878  0.005614    1.210871  \n",
       "28  0.010882    0.598837  1.251766  0.002189    1.300235  \n",
       "31  0.023666    0.704403  1.472431  0.007593    1.764582  "
      ]
     },
     "execution_count": 30,
     "metadata": {},
     "output_type": "execute_result"
    }
   ],
   "source": [
    "rules[ (rules['lift'] >= 1.17) &\n",
    "       (rules['confidence'] >= 0.5) ]"
   ]
  },
  {
   "cell_type": "markdown",
   "id": "7cc758d6",
   "metadata": {},
   "source": [
    "# The combition of toast and coffee has the maximum lift of 1.48.This means most cases people buying toast also buy coffee.Support 0.023 means that 2.3% of the transaction contains toast..Confidence of 0.70 means 70% of the toast purchases are accompanied with coffee..Lift 1.47 means that coffee is 1.47 times more likely to be brought when toast is brought."
   ]
  },
  {
   "cell_type": "code",
   "execution_count": null,
   "id": "f02d52cd",
   "metadata": {},
   "outputs": [],
   "source": []
  }
 ],
 "metadata": {
  "kernelspec": {
   "display_name": "Python 3",
   "language": "python",
   "name": "python3"
  },
  "language_info": {
   "codemirror_mode": {
    "name": "ipython",
    "version": 3
   },
   "file_extension": ".py",
   "mimetype": "text/x-python",
   "name": "python",
   "nbconvert_exporter": "python",
   "pygments_lexer": "ipython3",
   "version": "3.8.8"
  }
 },
 "nbformat": 4,
 "nbformat_minor": 5
}
